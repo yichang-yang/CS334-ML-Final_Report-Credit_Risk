{
 "cells": [
  {
   "cell_type": "code",
   "execution_count": null,
   "metadata": {},
   "outputs": [],
   "source": [
    "import pandas as pd\n",
    "from sklearn import preprocessing\n",
    "from tensorflow.keras import Sequential, Input\n",
    "from tensorflow.keras.layers import Dense, Dropout\n",
    "from tensorflow.keras.callbacks import EarlyStopping\n",
    "\n",
    "import matplotlib.pyplot as plt\n",
    "import seaborn as sns"
   ]
  },
  {
   "cell_type": "code",
   "execution_count": null,
   "metadata": {},
   "outputs": [],
   "source": [
    "PCA_xTrain = pd.read_csv('PCA_xTrain.csv')\n",
    "PCA_xTest = pd.read_csv('PCA_xTest.csv')\n",
    "\n",
    "X = pd.read_csv('X.csv')\n",
    "y = pd.read_csv('y.csv')"
   ]
  },
  {
   "cell_type": "code",
   "execution_count": null,
   "metadata": {},
   "outputs": [],
   "source": [
    "# normalize the dataset\n",
    "xTrain = pd.read_csv('xTrain.csv')\n",
    "xTest = pd.read_csv('xTest.csv')\n",
    "yTrain = pd.read_csv('yTrain.csv')\n",
    "yTest = pd.read_csv('yTest.csv')\n",
    "\n",
    "scaler = preprocessing.MinMaxScaler()\n",
    "scaler.fit(xTrain)\n",
    "nor_xTrain = scaler.transform(xTrain)\n",
    "nor_xTest = scaler.transform(xTest)\n",
    "\n",
    "scaler.fit(PCA_xTrain)\n",
    "nor_PCA_xTrain = scaler.transform(PCA_xTrain)\n",
    "nor_PCA_xTest = scaler.transform(xTest)"
   ]
  },
  {
   "cell_type": "code",
   "execution_count": null,
   "metadata": {},
   "outputs": [],
   "source": [
    "### oversampling and undersampling\n",
    "from imblearn.under_sampling import (ClusterCentroids, RandomUnderSampler,\n",
    "                                     NearMiss,\n",
    "                                     InstanceHardnessThreshold,\n",
    "                                     CondensedNearestNeighbour,\n",
    "                                     EditedNearestNeighbours,\n",
    "                                     RepeatedEditedNearestNeighbours,\n",
    "                                     AllKNN,\n",
    "                                     NeighbourhoodCleaningRule,\n",
    "                                     OneSidedSelection)\n",
    "from imblearn.over_sampling import SMOTE\n",
    "from sklearn import model_selection\n",
    "\n",
    "oversample = SMOTE()\n",
    "xTrain_smote, yTrain_smote = oversample.fit_resample(xTrain, yTrain)\n",
    "\n",
    "scaler = preprocessing.MinMaxScaler()\n",
    "scaler.fit(xTrain_smote)\n",
    "nor_xTrain_smote = scaler.transform(xTrain_smote)\n",
    "nor_xTest = scaler.transform(xTest)"
   ]
  },
  {
   "cell_type": "code",
   "execution_count": null,
   "metadata": {},
   "outputs": [],
   "source": [
    "# the undersampling result is unsatisfied\n",
    "'''\n",
    "undersample = RepeatedEditedNearestNeighbours()\n",
    "X_renn, y_renn = undersample.fit_resample(X, y)\n",
    "xTrain_renn, xTest_renn, yTrain_renn, yTest_renn = model_selection.train_test_split(X_renn, y_renn, train_size = 0.7, random_state=42)\n",
    "\n",
    "scaler = preprocessing.MinMaxScaler()\n",
    "scaler.fit(xTrain_renn)\n",
    "nor_xTrain_renn = scaler.transform(xTrain_renn)\n",
    "nor_xTest_renn = scaler.transform(xTest_renn)\n",
    "'''"
   ]
  },
  {
   "cell_type": "code",
   "execution_count": null,
   "metadata": {},
   "outputs": [],
   "source": [
    "# hyperparameter tuning\n",
    "\n",
    "# number of units in the hidden layers\n",
    "layers = [(128,),(78,),(56,),(178,89),(98,45),(48,32),(128,56),(79,39),(128,56,28),(78,39,19)]\n",
    "# dropout rate in the hidden layer\n",
    "dropouts = [0.2, 0.25, 0.3, 0.35, 0.4]\n",
    "# activation\n",
    "activations = ['relu', 'sigmoid']\n",
    "# optimizer\n",
    "optimizers = ['adam', 'rmsprop']\n",
    "# batch size\n",
    "batches = [128, 256]"
   ]
  },
  {
   "cell_type": "code",
   "execution_count": null,
   "metadata": {},
   "outputs": [],
   "source": [
    "input_nodes = xTrain_smote.shape[1] # number of features / number of nodes in the input layer\n",
    "output_nodes = 1 # number of nodes in the output layer"
   ]
  },
  {
   "cell_type": "code",
   "execution_count": null,
   "metadata": {},
   "outputs": [],
   "source": [
    "from keras.models import Sequential\n",
    "from keras.layers import Dense\n",
    "from keras.wrappers.scikit_learn import KerasClassifier\n",
    "from sklearn.model_selection import GridSearchCV, RandomizedSearchCV\n",
    "\n",
    "def create_model(layers, dropout, activation, optimizer):\n",
    "    model = Sequential()\n",
    "    model.add(Input((input_nodes,)))\n",
    "    \n",
    "    for i, nodes in enumerate(layers):\n",
    "        model.add(Dense(nodes, kernel_initializer = 'he_uniform', activation=activation))\n",
    "        model.add(Dropout(dropout))\n",
    "    \n",
    "    model.add(Dense(output_nodes, kernel_initializer = 'glorot_uniform', activation = 'sigmoid'))\n",
    "    model.compile(optimizer=optimizer, loss='binary_crossentropy', metrics=['accuracy'])\n",
    "    \n",
    "    return model"
   ]
  },
  {
   "cell_type": "code",
   "execution_count": null,
   "metadata": {},
   "outputs": [],
   "source": [
    "model = KerasClassifier(build_fn=create_model, verbose=0, epochs=100)\n",
    "param_grid = dict(layers=layers, dropout=dropouts, activation=activations, optimizer=optimizers, batch_size=batches)\n",
    "grid = RandomizedSearchCV(estimator=model, param_grid=param_grid)\n",
    "grid_result = grid.fit(nor_xTrain_smote, yTrain_smote)\n",
    "print(\"Best: %f using %s\" % (grid_result.best_score_, grid_result.best_params_))\n",
    "means = grid_result.cv_results_['mean_test_score']\n",
    "stds = grid_result.cv_results_['std_test_score']\n",
    "params = grid_result.cv_results_['params']\n",
    "for mean, stdev, param in zip(means, stds, params):\n",
    "\tprint(\"%f (%f) with: %r\" % (mean, stdev, param))"
   ]
  }
 ],
 "metadata": {
  "kernelspec": {
   "display_name": "Python 3",
   "language": "python",
   "name": "python3"
  },
  "language_info": {
   "codemirror_mode": {
    "name": "ipython",
    "version": 3
   },
   "file_extension": ".py",
   "mimetype": "text/x-python",
   "name": "python",
   "nbconvert_exporter": "python",
   "pygments_lexer": "ipython3",
   "version": "3.7.6"
  }
 },
 "nbformat": 4,
 "nbformat_minor": 4
}
