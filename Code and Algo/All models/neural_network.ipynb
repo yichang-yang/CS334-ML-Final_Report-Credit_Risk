{
 "cells": [
  {
   "cell_type": "code",
   "execution_count": 1,
   "metadata": {},
   "outputs": [],
   "source": [
    "import pandas as pd\n",
    "from sklearn import preprocessing\n",
    "from tensorflow.keras import Sequential, Input\n",
    "from tensorflow.keras.layers import Dense, Dropout\n",
    "from tensorflow.keras.callbacks import EarlyStopping\n",
    "\n",
    "from keras.models import Sequential\n",
    "from keras.layers import Dense\n",
    "from keras.wrappers.scikit_learn import KerasClassifier\n",
    "\n",
    "import matplotlib.pyplot as plt\n",
    "import seaborn as sns"
   ]
  },
  {
   "cell_type": "code",
   "execution_count": 2,
   "metadata": {},
   "outputs": [],
   "source": [
    "PCA_xTrain = pd.read_csv('PCA_xTrain.csv')\n",
    "PCA_xTest = pd.read_csv('PCA_xTest.csv')\n",
    "\n",
    "# normalize the dataset\n",
    "xTrain = pd.read_csv('xTrain.csv')\n",
    "xTest = pd.read_csv('xTest.csv')\n",
    "yTrain = pd.read_csv('yTrain.csv')\n",
    "yTest = pd.read_csv('yTest.csv')\n",
    "\n",
    "scaler = preprocessing.MinMaxScaler()\n",
    "scaler.fit(xTrain)\n",
    "nor_xTrain = scaler.transform(xTrain)\n",
    "nor_xTest = scaler.transform(xTest)\n",
    "\n",
    "scaler.fit(PCA_xTrain)\n",
    "nor_PCA_xTrain = scaler.transform(PCA_xTrain)\n",
    "nor_PCA_xTest = scaler.transform(PCA_xTest)"
   ]
  },
  {
   "cell_type": "code",
   "execution_count": 3,
   "metadata": {},
   "outputs": [],
   "source": [
    "input_nodes = xTrain.shape[1] # number of features / number of nodes in the input layer\n",
    "output_nodes = 1 # number of nodes in the output layer"
   ]
  },
  {
   "cell_type": "code",
   "execution_count": 4,
   "metadata": {},
   "outputs": [],
   "source": [
    "### optimal model\n",
    "model = Sequential()\n",
    "\n",
    "def create_model(layers, dropout, activation, optimizer):\n",
    "    model = Sequential()\n",
    "    model.add(Input((input_nodes,)))\n",
    "    \n",
    "    for i, nodes in enumerate(layers):\n",
    "        model.add(Dense(nodes, kernel_initializer = 'he_uniform', activation=activation))\n",
    "        model.add(Dropout(dropout))\n",
    "    \n",
    "    model.add(Dense(output_nodes, kernel_initializer = 'glorot_uniform', activation = 'sigmoid'))\n",
    "    model.compile(optimizer=optimizer, loss='binary_crossentropy', metrics=['accuracy'])\n",
    "    \n",
    "    return model"
   ]
  },
  {
   "cell_type": "code",
   "execution_count": 5,
   "metadata": {},
   "outputs": [],
   "source": [
    "model = KerasClassifier(build_fn=create_model, layers=(48,32), dropout=0.35,\n",
    "                        batch_size=128, activation='relu', optimizer='rmsprop', verbose=0, epochs=100)"
   ]
  },
  {
   "cell_type": "code",
   "execution_count": 6,
   "metadata": {},
   "outputs": [
    {
     "data": {
      "text/plain": [
       "<tensorflow.python.keras.callbacks.History at 0x1a381ce390>"
      ]
     },
     "execution_count": 6,
     "metadata": {},
     "output_type": "execute_result"
    }
   ],
   "source": [
    "from sklearn.metrics import classification_report,confusion_matrix,accuracy_score,fbeta_score,roc_auc_score,roc_curve,auc\n",
    "import numpy as np\n",
    "\n",
    "model.fit(nor_xTrain, yTrain)"
   ]
  },
  {
   "cell_type": "code",
   "execution_count": 7,
   "metadata": {},
   "outputs": [
    {
     "name": "stdout",
     "output_type": "stream",
     "text": [
      "WARNING:tensorflow:From /Users/plutosirius/opt/anaconda3/lib/python3.7/site-packages/tensorflow/python/keras/wrappers/scikit_learn.py:241: Sequential.predict_classes (from tensorflow.python.keras.engine.sequential) is deprecated and will be removed after 2021-01-01.\n",
      "Instructions for updating:\n",
      "Please use instead:* `np.argmax(model.predict(x), axis=-1)`,   if your model does multi-class classification   (e.g. if it uses a `softmax` last-layer activation).* `(model.predict(x) > 0.5).astype(\"int32\")`,   if your model does binary classification   (e.g. if it uses a `sigmoid` last-layer activation).\n"
     ]
    }
   ],
   "source": [
    "train_predict = model.predict(nor_xTrain)\n",
    "test_predict = model.predict(nor_xTest)"
   ]
  },
  {
   "cell_type": "code",
   "execution_count": 8,
   "metadata": {},
   "outputs": [
    {
     "name": "stdout",
     "output_type": "stream",
     "text": [
      "training accuracy:\n",
      "0.8145833333333333\n",
      "testing accuracy:\n",
      "0.8132086001292369\n",
      "training fbeta Score:\n",
      "0.8468828356882901\n",
      "testing fbeta Score:\n",
      "0.8461198333277039\n"
     ]
    }
   ],
   "source": [
    "from sklearn.metrics import plot_roc_curve\n",
    "#print('Classification Report:')\n",
    "#print(classification_report(yTest.to_numpy(), predictions))\n",
    "#print('\\n')\n",
    "#print('Confusion Matirx:')\n",
    "#print(confusion_matrix(yTest.to_numpy(), predictions))\n",
    "#print('\\n')\n",
    "print('training accuracy:')\n",
    "print(accuracy_score(yTrain, train_predict))\n",
    "print('testing accuracy:')\n",
    "print(accuracy_score(yTest, test_predict))\n",
    "print('training fbeta Score:')\n",
    "print(fbeta_score(yTrain, train_predict, beta=0.5))\n",
    "print('testing fbeta Score:')\n",
    "print(fbeta_score(yTest, test_predict, beta=0.5))"
   ]
  },
  {
   "cell_type": "code",
   "execution_count": 9,
   "metadata": {},
   "outputs": [
    {
     "name": "stdout",
     "output_type": "stream",
     "text": [
      "WARNING:tensorflow:From /Users/plutosirius/opt/anaconda3/lib/python3.7/site-packages/tensorflow/python/keras/wrappers/scikit_learn.py:264: Sequential.predict_proba (from tensorflow.python.keras.engine.sequential) is deprecated and will be removed after 2021-01-01.\n",
      "Instructions for updating:\n",
      "Please use `model.predict()` instead.\n"
     ]
    }
   ],
   "source": [
    "train_predict_proba = model.predict_proba(nor_xTrain)[:, 1]\n",
    "test_predict_proba = model.predict_proba(nor_xTest)[:, 1]"
   ]
  },
  {
   "cell_type": "code",
   "execution_count": 10,
   "metadata": {},
   "outputs": [
    {
     "name": "stdout",
     "output_type": "stream",
     "text": [
      "training roc_auc Score:\n",
      "0.6980665705837528\n",
      "testing roc_auc Score:\n",
      "0.6971613740654132\n"
     ]
    }
   ],
   "source": [
    "print('training roc_auc Score:')\n",
    "fpr_train, tpr_train, thresholds_train = roc_curve(yTrain, train_predict_proba)\n",
    "print(auc(fpr_train, tpr_train))\n",
    "print('testing roc_auc Score:')\n",
    "fpr_test, tpr_test, thresholds_test = roc_curve(yTest, test_predict_proba)\n",
    "print(auc(fpr_test, tpr_test))"
   ]
  },
  {
   "cell_type": "code",
   "execution_count": 11,
   "metadata": {},
   "outputs": [
    {
     "name": "stdout",
     "output_type": "stream",
     "text": [
      "baseline accuracy (original):  0.7006256241555543\n",
      "baseline fbeta score (original):  0.8149948408946284\n",
      "baseline roc_auc score (original):  0.5025162526527828\n",
      "baseline accuracy (PCA):  0.6963813663866534\n",
      "baseline fbeta score (PCA):  0.8131630910738331\n",
      "baseline roc_auc score (PCA):  0.499815533777281\n",
      "baseline accuracy (SMOTE):  0.5006461845738119\n",
      "baseline fbeta score (SMOTE):  0.7230737937904527\n",
      "baseline roc_auc score (SMOTE):  0.5003519795850975\n"
     ]
    }
   ],
   "source": [
    "from sklearn.dummy import DummyClassifier\n",
    "from imblearn.over_sampling import SMOTE\n",
    "from sklearn.metrics import classification_report,confusion_matrix,accuracy_score,fbeta_score,roc_auc_score,plot_roc_curve\n",
    "\n",
    "standard_scaler = preprocessing.StandardScaler()\n",
    "standard_scaler.fit(xTrain)\n",
    "standard_xTrain = standard_scaler.transform(xTrain)\n",
    "standard_xTest = standard_scaler.transform(xTest)\n",
    "standard_scaler.fit(PCA_xTrain)\n",
    "standard_PCA_xTrain = standard_scaler.transform(PCA_xTrain)\n",
    "standard_PCA_xTest = standard_scaler.transform(PCA_xTest)\n",
    "\n",
    "oversample = SMOTE()\n",
    "xTrain_smote, yTrain_smote = oversample.fit_resample(xTrain, yTrain)\n",
    "\n",
    "standard_scaler.fit(xTrain_smote)\n",
    "standard_smote_xTrain = standard_scaler.transform(xTrain_smote)\n",
    "standard_smote_xTest = standard_scaler.transform(xTest)\n",
    "\n",
    "dummy_model = DummyClassifier(strategy='stratified', constant=1)\n",
    "dummy_model.fit(standard_xTrain, yTrain)\n",
    "predictions = dummy_model.predict(standard_xTest)\n",
    "\n",
    "print(\"baseline accuracy (original): \", accuracy_score(yTest, predictions))\n",
    "print(\"baseline fbeta score (original): \", fbeta_score(yTest, predictions, beta=0.5))\n",
    "print(\"baseline roc_auc score (original): \", roc_auc_score(yTest, predictions))\n",
    "\n",
    "dummy_model = DummyClassifier(strategy='stratified', constant=1)\n",
    "dummy_model.fit(standard_PCA_xTrain, yTrain)\n",
    "predictions = dummy_model.predict(standard_xTest)\n",
    "\n",
    "print(\"baseline accuracy (PCA): \", accuracy_score(yTest, predictions))\n",
    "print(\"baseline fbeta score (PCA): \", fbeta_score(yTest, predictions, beta=0.5))\n",
    "print(\"baseline roc_auc score (PCA): \", roc_auc_score(yTest, predictions))\n",
    "\n",
    "dummy_model = DummyClassifier(strategy='stratified', constant=1)\n",
    "dummy_model.fit(standard_smote_xTrain, yTrain_smote)\n",
    "predictions = dummy_model.predict(standard_smote_xTest)\n",
    "\n",
    "print(\"baseline accuracy (SMOTE): \", accuracy_score(yTest, predictions))\n",
    "print(\"baseline fbeta score (SMOTE): \", fbeta_score(yTest, predictions, beta=0.5))\n",
    "print(\"baseline roc_auc score (SMOTE): \", roc_auc_score(yTest, predictions))"
   ]
  }
 ],
 "metadata": {
  "kernelspec": {
   "display_name": "Python 3",
   "language": "python",
   "name": "python3"
  },
  "language_info": {
   "codemirror_mode": {
    "name": "ipython",
    "version": 3
   },
   "file_extension": ".py",
   "mimetype": "text/x-python",
   "name": "python",
   "nbconvert_exporter": "python",
   "pygments_lexer": "ipython3",
   "version": "3.7.6"
  }
 },
 "nbformat": 4,
 "nbformat_minor": 4
}
